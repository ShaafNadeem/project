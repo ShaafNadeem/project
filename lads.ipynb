{
 "cells": [
  {
   "cell_type": "code",
   "execution_count": 1,
   "metadata": {},
   "outputs": [],
   "source": [
    "from typing import Any\n",
    "import pyodbc\n",
    "import pandas as pd\n",
    "from configparser import ConfigParser"
   ]
  },
  {
   "cell_type": "code",
   "execution_count": null,
   "metadata": {},
   "outputs": [],
   "source": [
    "class DataReader():\n",
    "    db_name = 'One Practice Sample'\n",
    "    server = 'CMDLHRDB01'\n",
    "    database = 'One Practice Sample'\n",
    "    trusted_connection = 'yes'  # Use Windows authentication\n",
    "    driver = '{SQL Server}'\n",
    "\n",
    "    def getData(self,table_name):\n",
    "        connection_string = f\"DRIVER={self.driver};SERVER={self.server};DATABASE={self.database};TRUSTED_CONNECTION={self.trusted_connection}\"\n",
    "        connection = pyodbc.connect(connection_string)\n",
    "        data = pd.read_sql(f\"select * from [One Practice Sample ].[dbo].[{table_name}]\", connection)\n",
    "        connection.close()\n",
    "        return data\n",
    "    \n",
    "    def getFilteredData(self, table_name, columns):\n",
    "        connection_string = f\"DRIVER={self.driver};SERVER={self.server};DATABASE={self.database};TRUSTED_CONNECTION={self.trusted_connection}\"\n",
    "        connection = pyodbc.connect(connection_string)\n",
    "        clns = \"\".join([f\"[{col}],\" for col in columns])\n",
    "        clns = clns[:-1]\n",
    "        data = pd.read_sql(f\"select {clns} from [One Practice Sample ].[dbo].[{table_name}]\", connection)\n",
    "        connection.close()\n",
    "        return data\n",
    "    \n",
    "    \n",
    "class PreProcessor():\n",
    "    og_column = \"Patient ID\"\n",
    "    column_fixed = \"PatientID\"\n",
    "    datatype = int\n",
    "    def __init__(self, df):\n",
    "        self.df = df\n",
    "        \n",
    "\n",
    "    \n",
    "    def getRename(self, table_name):\n",
    "        table_name.rename(columns = {self.og_column:self.column_fixed}, inplace=True, )\n",
    "        return table_name\n",
    "    \n",
    "    def fixDatatype(self, table_name):\n",
    "        table_name[self.column_fixed] = table_name[self.column_fixed].astype(self.datatype)\n",
    "        return table_name\n",
    "    \n",
    "\n",
    "    \n",
    "\n",
    "class InfoProducer(PreProcessor):\n",
    "    def __init__(self, df):\n",
    "        super().__init__(df=df)\n",
    "        self.df = df\n",
    "        self.df = super().getRename(table_name=self.df)\n",
    "        self.df = super().fixDatatype(table_name=self.df)\n",
    "    \n",
    "    # def __init__(self, patient_ID:int, merged):\n",
    "    #     self.patient_ID = patient_ID\n",
    "    #     self.merged = merged|\n",
    "        # merged[merged['PatientID']==patient_ID]\n",
    "\n",
    "    def merger(self, obj):\n",
    "        merged = obj.df.merge(self.df, on = 'PatientID', how = 'inner')       # merged = vitals.merge(notes, on = 'PatientID', how = 'inner')\n",
    "        self.merged_obj = InfoProducer(merged)\n",
    "        return self.merged_obj\n",
    "    \n",
    "    def getiddata(self, id):\n",
    "        return self.df[self.df.PatientID==id]"
   ]
  }
 ],
 "metadata": {
  "kernelspec": {
   "display_name": "Python 3",
   "language": "python",
   "name": "python3"
  },
  "language_info": {
   "codemirror_mode": {
    "name": "ipython",
    "version": 3
   },
   "file_extension": ".py",
   "mimetype": "text/x-python",
   "name": "python",
   "nbconvert_exporter": "python",
   "pygments_lexer": "ipython3",
   "version": "3.11.0"
  },
  "orig_nbformat": 4
 },
 "nbformat": 4,
 "nbformat_minor": 2
}
